{
 "cells": [
  {
   "cell_type": "code",
   "execution_count": 1,
   "metadata": {},
   "outputs": [],
   "source": [
    "import os, csv, requests\n",
    "from bs4 import BeautifulSoup"
   ]
  },
  {
   "cell_type": "code",
   "execution_count": null,
   "metadata": {},
   "outputs": [],
   "source": [
    "folderPath = './Testdata/'\n",
    "fileList = os.listdir(folderPath)\n",
    "csvName = \"\"\n",
    "for f in fileList:\n",
    "    csvName = f"
   ]
  },
  {
   "cell_type": "code",
   "execution_count": null,
   "metadata": {},
   "outputs": [],
   "source": [
    "def hasCode(soup, postId):\n",
    "    code = None\n",
    "    answer = soup.find(id=\"answer-\"+postId) #first check if the answer still exists (might be removed)\n",
    "    \n",
    "    if answer: #then check for a code example in the answer\n",
    "        fullAnswer = answer.find('div', class_=\"s-prose js-post-body\")\n",
    "        code = fullAnswer.findAll('pre') #pre tag is only for code blocks\n",
    "        if code:\n",
    "            return code\n",
    "        else:\n",
    "            return None\n",
    "    else:\n",
    "        return None"
   ]
  },
  {
   "cell_type": "code",
   "execution_count": null,
   "metadata": {},
   "outputs": [],
   "source": [
    "def is_c_or_cpp(soup, postId):\n",
    "    answer = dict()\n",
    "    c_or_cpp = False\n",
    "    question = soup.find('div', class_='question')\n",
    "    post_tags = question.find('div',class_='post-taglist').findAll('a', class_='post-tag')\n",
    "    \n",
    "    for p in post_tags:\n",
    "        if p.text == 'c++' or p.text =='c':\n",
    "            answer[postId] = p.text\n",
    "            c_or_cpp = True\n",
    "            break\n",
    "            \n",
    "    if c_or_cpp:\n",
    "        return answer\n",
    "    else:\n",
    "        return None"
   ]
  },
  {
   "cell_type": "code",
   "execution_count": null,
   "metadata": {},
   "outputs": [],
   "source": [
    "def line_check(code):\n",
    "    length = code.count('\\n')\n",
    "    if length>5:\n",
    "        return True\n",
    "    else:\n",
    "        return False"
   ]
  },
  {
   "cell_type": "code",
   "execution_count": null,
   "metadata": {},
   "outputs": [],
   "source": [
    "with open(folderPath + csvName, newline='') as file:\n",
    "    csvFile = csv.DictReader(file)\n",
    "    count = 1\n",
    "    countAll = 1\n",
    "    for row in csvFile:\n",
    "        fileDict = dict(row)\n",
    "        if fileDict['PostTypeId'] == '2':\n",
    "            postId = fileDict['PostId']\n",
    "            #postId = '951046'\n",
    "            URL = \"https://stackoverflow.com/a/\"+postId\n",
    "            page = requests.get(URL)\n",
    "            print('opening: ' + URL + \"    - #\" + str(countAll))\n",
    "            countAll = countAll + 1\n",
    "            soup = BeautifulSoup(page.content, 'html.parser')\n",
    "            \n",
    "            #check if page still exists\n",
    "            pageFound = soup.find('div', itemprop=\"mainEntity\")\n",
    "            if pageFound:\n",
    "                #check if answer is contains a code example\n",
    "                code = hasCode(soup,postId)\n",
    "                if code == None:\n",
    "                    continue\n",
    "                else:\n",
    "                    #check if question is related to c or c++ \n",
    "                    answerDict = is_c_or_cpp(soup,postId)\n",
    "                    if answerDict == None:\n",
    "                        continue\n",
    "                    else:\n",
    "                        #output the anwer into c/c++ files\n",
    "                        print(postId + \" contains c or c++ code in it's answer - #\" + str(count))\n",
    "                        count = count + 1\n",
    "                        i = 1\n",
    "                        for c in code:\n",
    "                            if line_check(c.text)==True:\n",
    "                                output_path = './output'\n",
    "                                file_name =\"post-\"+postId\n",
    "                                if i>1:\n",
    "                                    file_name = file_name + \"-\"+str(i)\n",
    "                                if answerDict[postId] == \"c++\":\n",
    "                                    file_name = file_name +\".cpp\"\n",
    "                                elif answerDict[postId] == \"c\":\n",
    "                                    file_name = file_name +\".c\"\n",
    "                                output = os.path.join(output_path, file_name)\n",
    "                                file1 = open(output, \"w\")\n",
    "                                file1.write(c.text)\n",
    "                                print(file_name+ \" created\")\n",
    "                                file1.close()\n",
    "                                i = i + 1               "
   ]
  }
 ],
 "metadata": {
  "kernelspec": {
   "display_name": "Python 3",
   "language": "python",
   "name": "python3"
  },
  "language_info": {
   "codemirror_mode": {
    "name": "ipython",
    "version": 3
   },
   "file_extension": ".py",
   "mimetype": "text/x-python",
   "name": "python",
   "nbconvert_exporter": "python",
   "pygments_lexer": "ipython3",
   "version": "3.8.5"
  }
 },
 "nbformat": 4,
 "nbformat_minor": 4
}
