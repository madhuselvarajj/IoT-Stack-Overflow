{
 "cells": [
  {
   "cell_type": "code",
   "execution_count": 40,
   "metadata": {},
   "outputs": [],
   "source": [
    "import os, csv, requests\n",
    "from bs4 import BeautifulSoup"
   ]
  },
  {
   "cell_type": "code",
   "execution_count": 41,
   "metadata": {},
   "outputs": [],
   "source": [
    "folderPath = './Testdata/'\n",
    "fileList = os.listdir(folderPath)\n",
    "csvName = \"\"\n",
    "for f in fileList:\n",
    "    csvName = f"
   ]
  },
  {
   "cell_type": "code",
   "execution_count": null,
   "metadata": {},
   "outputs": [
    {
     "name": "stdout",
     "output_type": "stream",
     "text": [
      "Checking: 164358\n",
      "Checking: 365747\n",
      "Checking: 394073\n",
      "Checking: 587105\n",
      "Checking: 646967\n",
      "Checking: 648184\n",
      "Checking: 689342\n",
      "Checking: 728787\n",
      "post-728787.c created\n",
      "post-728787-2.c created\n",
      "Checking: 781620\n",
      "Checking: 791519\n",
      "Checking: 824083\n",
      "post-824083.c created\n",
      "Checking: 891707\n",
      "Checking: 895884\n",
      "Checking: 897270\n",
      "Checking: 899181\n",
      "post-899181.c created\n",
      "Checking: 899226\n",
      "post-899226.c created\n",
      "Checking: 930855\n"
     ]
    }
   ],
   "source": [
    "answerDict = dict()\n",
    "with open(folderPath + csvName, newline='') as file:\n",
    "    csvFile = csv.DictReader(file)\n",
    "    for row in csvFile:\n",
    "        fileDict = dict(row)\n",
    "        if fileDict['PostTypeId'] == '2':\n",
    "            postId = fileDict['PostId']\n",
    "            #postId = '951046'\n",
    "            URL = \"https://stackoverflow.com/a/\"+postId\n",
    "            page = requests.get(URL)\n",
    "            soup = BeautifulSoup(page.content, 'html.parser')\n",
    "            #check if page still exists\n",
    "            pageFound = soup.find('div', itemprop=\"mainEntity\")\n",
    "            if pageFound:\n",
    "                #check if answer is contains a code example\n",
    "                answer = soup.find(id='answer-'+postId)\n",
    "                if answer:\n",
    "                    fullAnswer = answer.find('div', class_=\"s-prose js-post-body\")\n",
    "                    code = fullAnswer.findAll('pre') #pre tag is only for code blocks \n",
    "                    if code:\n",
    "                        print(\"Checking: \" + postId) #only displays posts with code BLOCKS\n",
    "                        \n",
    "                        #check if question is related to c or c++\n",
    "                        question = soup.find('div', class_='question')\n",
    "                        post_tags = question.find('div',class_='post-taglist').findAll('a', class_='post-tag')\n",
    "                        c_or_cpp = False\n",
    "                        for p in post_tags:\n",
    "                            if p.text == 'c++' or p.text =='c':\n",
    "                                answerDict[postId] = p.text\n",
    "                                c_or_cpp = True\n",
    "                                break\n",
    "                        if c_or_cpp==False:\n",
    "                            continue\n",
    "                        i = 1\n",
    "                        for c in code: #can be multiple code blocks....each one goes in new fie? TODO: figure it out\n",
    "                            output_path = './output'\n",
    "                            file_name =\"post-\"+postId\n",
    "                            if i>1:\n",
    "                                file_name = file_name + \"-\"+str(i)\n",
    "                            if answerDict[postId] == \"c++\":\n",
    "                                file_name = file_name +\".cpp\"\n",
    "                            elif answerDict[postId] == \"c\":\n",
    "                                file_name = file_name +\".c\"\n",
    "                            output = os.path.join(output_path, file_name)\n",
    "                            file1 = open(output, \"w\")\n",
    "                            file1.write(c.text)\n",
    "                            print(file_name+ \" created\")\n",
    "                            file1.close()\n",
    "                            i = i +1\n",
    "                            \n",
    "                \n",
    "            \n",
    "    \n",
    "\n",
    "                "
   ]
  },
  {
   "cell_type": "code",
   "execution_count": null,
   "metadata": {},
   "outputs": [],
   "source": []
  }
 ],
 "metadata": {
  "kernelspec": {
   "display_name": "Python 3",
   "language": "python",
   "name": "python3"
  },
  "language_info": {
   "codemirror_mode": {
    "name": "ipython",
    "version": 3
   },
   "file_extension": ".py",
   "mimetype": "text/x-python",
   "name": "python",
   "nbconvert_exporter": "python",
   "pygments_lexer": "ipython3",
   "version": "3.8.5"
  }
 },
 "nbformat": 4,
 "nbformat_minor": 4
}
