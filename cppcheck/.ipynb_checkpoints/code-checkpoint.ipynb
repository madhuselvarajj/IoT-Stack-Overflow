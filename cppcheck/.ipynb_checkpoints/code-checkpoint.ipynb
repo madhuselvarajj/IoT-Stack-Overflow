{
 "cells": [
  {
   "cell_type": "code",
   "execution_count": 10,
   "metadata": {},
   "outputs": [],
   "source": [
    "import os, csv, requests\n",
    "from bs4 import BeautifulSoup"
   ]
  },
  {
   "cell_type": "code",
   "execution_count": 11,
   "metadata": {},
   "outputs": [],
   "source": [
    "folderPath = './Testdata/'\n",
    "fileList = os.listdir(folderPath)\n",
    "csvName = \"\"\n",
    "for f in fileList:\n",
    "    csvName = f"
   ]
  },
  {
   "cell_type": "code",
   "execution_count": 12,
   "metadata": {},
   "outputs": [
    {
     "name": "stdout",
     "output_type": "stream",
     "text": [
      "checking: 951046\n",
      "the c or c++ code: #include <stdio.h>\n",
      "\n",
      "static int bar = 0;\n",
      "\n",
      "int __real_main(int argc, char **argv);\n",
      "\n",
      "int __wrap_main(int argc, char **argv)\n",
      "{\n",
      "    bar = 1;\n",
      "    return __real_main(argc, argv);\n",
      "}\n",
      "\n",
      "int main(int argc, char **argv)\n",
      "{\n",
      "    printf(\"bar %d\\n\",bar);\n",
      "    return 0;\n",
      "}\n",
      "\n"
     ]
    },
    {
     "ename": "FileNotFoundError",
     "evalue": "[Errno 2] No such file or directory: '/output\\\\post-951046.cpp'",
     "output_type": "error",
     "traceback": [
      "\u001b[1;31m---------------------------------------------------------------------------\u001b[0m",
      "\u001b[1;31mFileNotFoundError\u001b[0m                         Traceback (most recent call last)",
      "\u001b[1;32m<ipython-input-12-1f3d39000260>\u001b[0m in \u001b[0;36m<module>\u001b[1;34m\u001b[0m\n\u001b[0;32m     37\u001b[0m                             \u001b[0mfile_name\u001b[0m \u001b[1;33m=\u001b[0m \u001b[1;34m\"post-\"\u001b[0m\u001b[1;33m+\u001b[0m\u001b[0mpostId\u001b[0m\u001b[1;33m+\u001b[0m\u001b[1;34m\".cpp\"\u001b[0m\u001b[1;33m\u001b[0m\u001b[1;33m\u001b[0m\u001b[0m\n\u001b[0;32m     38\u001b[0m                             \u001b[0moutput\u001b[0m \u001b[1;33m=\u001b[0m \u001b[0mos\u001b[0m\u001b[1;33m.\u001b[0m\u001b[0mpath\u001b[0m\u001b[1;33m.\u001b[0m\u001b[0mjoin\u001b[0m\u001b[1;33m(\u001b[0m\u001b[0moutput_path\u001b[0m\u001b[1;33m,\u001b[0m \u001b[0mfile_name\u001b[0m\u001b[1;33m)\u001b[0m\u001b[1;33m\u001b[0m\u001b[1;33m\u001b[0m\u001b[0m\n\u001b[1;32m---> 39\u001b[1;33m                             \u001b[0mfile1\u001b[0m \u001b[1;33m=\u001b[0m \u001b[0mopen\u001b[0m\u001b[1;33m(\u001b[0m\u001b[0moutput\u001b[0m\u001b[1;33m,\u001b[0m \u001b[1;34m\"w\"\u001b[0m\u001b[1;33m)\u001b[0m\u001b[1;33m\u001b[0m\u001b[1;33m\u001b[0m\u001b[0m\n\u001b[0m\u001b[0;32m     40\u001b[0m                             \u001b[0mfile1\u001b[0m\u001b[1;33m.\u001b[0m\u001b[0mwrite\u001b[0m\u001b[1;33m(\u001b[0m\u001b[0mc\u001b[0m\u001b[1;33m.\u001b[0m\u001b[0mtext\u001b[0m\u001b[1;33m)\u001b[0m\u001b[1;33m\u001b[0m\u001b[1;33m\u001b[0m\u001b[0m\n\u001b[0;32m     41\u001b[0m                             \u001b[0mfile1\u001b[0m\u001b[1;33m.\u001b[0m\u001b[0mclose\u001b[0m\u001b[1;33m(\u001b[0m\u001b[1;33m)\u001b[0m\u001b[1;33m\u001b[0m\u001b[1;33m\u001b[0m\u001b[0m\n",
      "\u001b[1;31mFileNotFoundError\u001b[0m: [Errno 2] No such file or directory: '/output\\\\post-951046.cpp'"
     ]
    }
   ],
   "source": [
    "answerDict = dict()\n",
    "with open(folderPath + csvName, newline='') as file:\n",
    "    csvFile = csv.DictReader(file)\n",
    "    for row in csvFile:\n",
    "        fileDict = dict(row)\n",
    "        if fileDict['PostTypeId'] == '2':\n",
    "            #postId = fileDict['PostId']\n",
    "            postId = '951046'\n",
    "            URL = \"https://stackoverflow.com/a/\"+postId\n",
    "            page = requests.get(URL)\n",
    "            soup = BeautifulSoup(page.content, 'html.parser')\n",
    "            #check if page still exists\n",
    "            pageFound = soup.find('div', itemprop=\"mainEntity\")\n",
    "            if pageFound:\n",
    "                #check if answer is contains a code example\n",
    "                answer = soup.find(id='answer-'+postId)\n",
    "                if answer:\n",
    "                    fullAnswer = answer.find('div', class_=\"s-prose js-post-body\")\n",
    "                    code = fullAnswer.findAll('pre') #pre tag is only for code blocks \n",
    "                    if code:\n",
    "                        print(\"checking: \" + postId) #only displays answers with code BLOCKS\n",
    "                        \n",
    "                        #check if question is related to c or c++\n",
    "                        question = soup.find('div', class_='question')\n",
    "                        post_tags = question.find('div',class_='post-taglist').findAll('a', class_='post-tag')\n",
    "                        c_or_cpp = False\n",
    "                        for p in post_tags:\n",
    "                            if p.text == 'c++' or p.text =='c':\n",
    "                                answerDict[postId] = p.text\n",
    "                                c_or_cpp = True\n",
    "                                break\n",
    "                        if c_or_cpp==False:\n",
    "                            continue\n",
    "                        for c in code:\n",
    "                            print (\"the c or c++ code: \"+c.text)\n",
    "                            output_path = './output'\n",
    "                            file_name = \"post-\"+postId+\".cpp\"\n",
    "                            output = os.path.join(output_path, file_name)\n",
    "                            file1 = open(output, \"w\")\n",
    "                            file1.write(c.text)\n",
    "                            file1.close()\n",
    "                            break\n",
    "                    else:\n",
    "                        continue\n",
    "            break\n",
    "    \n",
    "\n",
    "                "
   ]
  },
  {
   "cell_type": "code",
   "execution_count": null,
   "metadata": {},
   "outputs": [],
   "source": []
  }
 ],
 "metadata": {
  "kernelspec": {
   "display_name": "Python 3",
   "language": "python",
   "name": "python3"
  },
  "language_info": {
   "codemirror_mode": {
    "name": "ipython",
    "version": 3
   },
   "file_extension": ".py",
   "mimetype": "text/x-python",
   "name": "python",
   "nbconvert_exporter": "python",
   "pygments_lexer": "ipython3",
   "version": "3.8.5"
  }
 },
 "nbformat": 4,
 "nbformat_minor": 4
}
