{
 "cells": [
  {
   "cell_type": "code",
   "execution_count": 144,
   "metadata": {},
   "outputs": [],
   "source": [
    "import os, csv, requests\n",
    "from bs4 import BeautifulSoup"
   ]
  },
  {
   "cell_type": "code",
   "execution_count": 145,
   "metadata": {},
   "outputs": [],
   "source": [
    "folderPath = './Testdata/'\n",
    "fileList = os.listdir(folderPath)"
   ]
  },
  {
   "cell_type": "code",
   "execution_count": 146,
   "metadata": {},
   "outputs": [],
   "source": [
    "csvName = \"\"\n",
    "for f in fileList:\n",
    "    csvName = f"
   ]
  },
  {
   "cell_type": "code",
   "execution_count": 147,
   "metadata": {},
   "outputs": [
    {
     "name": "stdout",
     "output_type": "stream",
     "text": [
      "164358\n",
      "<code>\n",
      " describe \"Long Island Iced Tea\" do\n",
      "  serve_in 'Highball Glass'\n",
      "\n",
      "  ingredients do\n",
      "    half.ounce.of :vodka\n",
      "    half.ounce.of :tequila\n",
      "    half.ounce.of :light_rum\n",
      "    half.ounce.of :gin\n",
      "    1.dash.of :coca_cola\n",
      "    #ignoring lemon peel as how can a robot peel a lemon?\n",
      "  end\n",
      "\n",
      "  steps do\n",
      "    add :vodka, :tequila, :light_rum, :gin\n",
      "    stir :gently\n",
      "    add :coca_cola\n",
      "  end\n",
      "end\n",
      "</code>\n",
      "165827\n",
      "<code>\n",
      " description\n",
      "</code>\n",
      "\n",
      "<code>\n",
      " recipe\n",
      "</code>\n",
      "\n",
      "<code>\n",
      " vodka = :vodka\n",
      "</code>\n",
      "\n"
     ]
    },
    {
     "ename": "AttributeError",
     "evalue": "'NoneType' object has no attribute 'findAll'",
     "output_type": "error",
     "traceback": [
      "\u001b[1;31m---------------------------------------------------------------------------\u001b[0m",
      "\u001b[1;31mAttributeError\u001b[0m                            Traceback (most recent call last)",
      "\u001b[1;32m<ipython-input-147-3ede26871e4f>\u001b[0m in \u001b[0;36m<module>\u001b[1;34m\u001b[0m\n\u001b[0;32m      8\u001b[0m             \u001b[0msoup\u001b[0m \u001b[1;33m=\u001b[0m \u001b[0mBeautifulSoup\u001b[0m\u001b[1;33m(\u001b[0m\u001b[0mpage\u001b[0m\u001b[1;33m.\u001b[0m\u001b[0mcontent\u001b[0m\u001b[1;33m,\u001b[0m \u001b[1;34m'html.parser'\u001b[0m\u001b[1;33m)\u001b[0m\u001b[1;33m\u001b[0m\u001b[1;33m\u001b[0m\u001b[0m\n\u001b[0;32m      9\u001b[0m             \u001b[0manswerId\u001b[0m \u001b[1;33m=\u001b[0m \u001b[1;34m'answer-'\u001b[0m \u001b[1;33m+\u001b[0m \u001b[0mfileDict\u001b[0m\u001b[1;33m[\u001b[0m\u001b[1;34m'PostId'\u001b[0m\u001b[1;33m]\u001b[0m\u001b[1;33m\u001b[0m\u001b[1;33m\u001b[0m\u001b[0m\n\u001b[1;32m---> 10\u001b[1;33m             \u001b[0manswer\u001b[0m \u001b[1;33m=\u001b[0m \u001b[0msoup\u001b[0m\u001b[1;33m.\u001b[0m\u001b[0mfind\u001b[0m\u001b[1;33m(\u001b[0m\u001b[0mid\u001b[0m\u001b[1;33m=\u001b[0m\u001b[0manswerId\u001b[0m\u001b[1;33m)\u001b[0m\u001b[1;33m.\u001b[0m\u001b[0mfindAll\u001b[0m\u001b[1;33m(\u001b[0m\u001b[1;34m\"code\"\u001b[0m\u001b[1;33m)\u001b[0m\u001b[1;33m\u001b[0m\u001b[1;33m\u001b[0m\u001b[0m\n\u001b[0m\u001b[0;32m     11\u001b[0m             \u001b[1;32mif\u001b[0m \u001b[0manswer\u001b[0m\u001b[1;33m:\u001b[0m\u001b[1;33m\u001b[0m\u001b[1;33m\u001b[0m\u001b[0m\n\u001b[0;32m     12\u001b[0m                 \u001b[0mprint\u001b[0m\u001b[1;33m(\u001b[0m\u001b[0mfileDict\u001b[0m\u001b[1;33m[\u001b[0m\u001b[1;34m'PostId'\u001b[0m\u001b[1;33m]\u001b[0m\u001b[1;33m)\u001b[0m\u001b[1;33m\u001b[0m\u001b[1;33m\u001b[0m\u001b[0m\n",
      "\u001b[1;31mAttributeError\u001b[0m: 'NoneType' object has no attribute 'findAll'"
     ]
    }
   ],
   "source": [
    "with open(folderPath + csvName, newline='') as file:\n",
    "    csvFile = csv.DictReader(file)\n",
    "    for row in csvFile:\n",
    "        fileDict = dict(row)\n",
    "        if fileDict['PostTypeId'] == '2':\n",
    "            URL = \"https://stackoverflow.com/a/\"+fileDict['PostId']\n",
    "            page = requests.get(URL)\n",
    "            soup = BeautifulSoup(page.content, 'html.parser')\n",
    "            answerId = 'answer-' + fileDict['PostId']\n",
    "            print(fileDict['PostId'])\n",
    "            answer = soup.find(id=answerId)\n",
    "            if answer:\n",
    "                codeAnswer = answer.findAll(\"code\")\n",
    "                if codeAnswer:\n",
    "                    \n",
    "                    for a in codeAnswer:\n",
    "                        print(a.prettify())\n",
    "    "
   ]
  }
 ],
 "metadata": {
  "kernelspec": {
   "display_name": "Python 3",
   "language": "python",
   "name": "python3"
  },
  "language_info": {
   "codemirror_mode": {
    "name": "ipython",
    "version": 3
   },
   "file_extension": ".py",
   "mimetype": "text/x-python",
   "name": "python",
   "nbconvert_exporter": "python",
   "pygments_lexer": "ipython3",
   "version": "3.8.5"
  }
 },
 "nbformat": 4,
 "nbformat_minor": 4
}
